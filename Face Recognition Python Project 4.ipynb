{
 "cells": [
  {
   "cell_type": "code",
   "execution_count": 4,
   "id": "b2616016",
   "metadata": {},
   "outputs": [],
   "source": [
    "# pip install opencv-python"
   ]
  },
  {
   "cell_type": "code",
   "execution_count": 2,
   "id": "16a1677f-bae8-4f52-8589-0f1f86a41221",
   "metadata": {},
   "outputs": [],
   "source": [
    "# C:\\Users\\ALI COM III\\AppData\\Local\\Programs\\Python\\Python310\\Lib\\site-packages\\cv2\\data"
   ]
  },
  {
   "cell_type": "code",
   "execution_count": 3,
   "id": "193d8628-c47b-42b8-9165-feb13318a47c",
   "metadata": {},
   "outputs": [],
   "source": [
    "# # haarcascade_frontalface_default.xml"
   ]
  },
  {
   "cell_type": "code",
   "execution_count": 1,
   "id": "98b72db6",
   "metadata": {},
   "outputs": [],
   "source": [
    "import cv2"
   ]
  },
  {
   "cell_type": "code",
   "execution_count": 2,
   "id": "f7e02a30-62d7-4239-bf64-8c7ec1b3f3b0",
   "metadata": {},
   "outputs": [],
   "source": [
    "face_cap = cv2.CascadeClassifier(\"C:/Users/ALI COM III/AppData/Local/Programs/Python/Python310/Lib/site-packages/cv2/data/haarcascade_frontalface_default.xml\")\n",
    "video_cap = cv2.VideoCapture(0)\n",
    "while True:\n",
    "    ret,video_data = video_cap.read()\n",
    "    col = cv2.cvtColor(video_data,cv2.COLOR_BGR2GRAY)\n",
    "    faces = face_cap.detectMultiScale(\n",
    "        col,\n",
    "        scaleFactor = 1.1,\n",
    "        minNeighbors = 5,\n",
    "        minSize = (40,40),\n",
    "        flags = cv2.CASCADE_SCALE_IMAGE\n",
    "    \n",
    "    )\n",
    "   \n",
    "    for (x,y,w,h) in faces:\n",
    "        cv2.rectangle(video_data,(x,y),(x+w,y+h),(0,139,0),2)\n",
    "    cv2.imshow(\"Video_live\",video_data)\n",
    "    if cv2.waitKey(10) == ord(\"a\"):\n",
    "        break\n",
    "video_cap.release()\n",
    "    \n"
   ]
  },
  {
   "cell_type": "code",
   "execution_count": 6,
   "id": "73bf81c6-5174-42e8-8627-7c262082f335",
   "metadata": {},
   "outputs": [],
   "source": [
    "video_cap = cv2.VideoCapture(0)   ## Camera enabled\n",
    "while True:\n",
    "    ret,video_data = video_cap.read()\n",
    "    cv2.imshow(\"Video_live\",video_data)\n",
    "    if cv2.waitKey(10) == ord(\"a\"):\n",
    "        break\n",
    "video_cap.release()\n",
    "    \n"
   ]
  },
  {
   "cell_type": "code",
   "execution_count": null,
   "id": "c3fa6b9b-7d44-4c8c-aad9-4f7bc360dbe7",
   "metadata": {},
   "outputs": [],
   "source": []
  },
  {
   "cell_type": "code",
   "execution_count": null,
   "id": "e4c8d6d3-3fb5-4267-9440-abd2b1a556f0",
   "metadata": {},
   "outputs": [],
   "source": []
  },
  {
   "cell_type": "code",
   "execution_count": null,
   "id": "83183381-0277-471c-ba2e-308c7308a532",
   "metadata": {},
   "outputs": [],
   "source": []
  }
 ],
 "metadata": {
  "kernelspec": {
   "display_name": "Python 3 (ipykernel)",
   "language": "python",
   "name": "python3"
  },
  "language_info": {
   "codemirror_mode": {
    "name": "ipython",
    "version": 3
   },
   "file_extension": ".py",
   "mimetype": "text/x-python",
   "name": "python",
   "nbconvert_exporter": "python",
   "pygments_lexer": "ipython3",
   "version": "3.10.5"
  }
 },
 "nbformat": 4,
 "nbformat_minor": 5
}
